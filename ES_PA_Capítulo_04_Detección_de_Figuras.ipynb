{
  "cells": [
    {
      "cell_type": "markdown",
      "metadata": {
        "colab_type": "text",
        "id": "view-in-github"
      },
      "source": [
        "<a href=\"https://colab.research.google.com/github/joanby/trading-algoritmico-price-action/blob/main/ES_PA_Capi%CC%81tulo_04_Deteccio%CC%81n_de_Figuras.ipynb\" target=\"_parent\"><img src=\"https://colab.research.google.com/assets/colab-badge.svg\" alt=\"Open In Colab\"/></a>"
      ]
    },
    {
      "cell_type": "markdown",
      "metadata": {
        "id": "eHAsKZTzZD9g"
      },
      "source": [
        "<p><img alt=\"Colaboratory logo\" height=\"45px\" src=\"https://www.quantreo.com/wp-content/uploads/2021/10/Original-on-Transparent.png\" align=\"left\" hspace=\"10px\" vspace=\"0px\">\n",
        "<img alt=\"Colaboratory logo\" height=\"45px\" src=\"https://static-881c.kxcdn.com/wp-content/uploads/2016/03/frogamesLogoFull4.png\" align=\"left\" hspace=\"10px\" vspace=\"0px\"></p>\n",
        "\n",
        "\n",
        "# Detección de Figuras\n",
        "\n",
        "\n",
        "<br>\n",
        "\n",
        "\n",
        "💰 Únete a la comunidad de [Discord](https://discord.gg/wXjNPAc5BH)\n",
        "\n",
        "📚 Puedes leer nuestro libro en [Amazon](https://www.amazon.com/gp/product/B09HG18CYL)\n",
        "\n",
        "🖥️ El canal de [YouTube de Quantreo's](https://www.youtube.com/channel/UCp7jckfiEglNf_Gj62VR0pw) (en inglés) y el de [Frogames](https://www.youtube.com/channel/UCMUxXNYrVCv6-bQakhomvBg) en español\n"
      ]
    },
    {
      "cell_type": "code",
      "execution_count": 2,
      "metadata": {
        "colab": {
          "base_uri": "https://localhost:8080/"
        },
        "id": "WgM-HHzQYuTn",
        "outputId": "a34ede16-46f9-4b07-a091-bb122e9ee064"
      },
      "outputs": [
        {
          "name": "stdout",
          "output_type": "stream",
          "text": [
            "Looking in indexes: https://pypi.org/simple, https://us-python.pkg.dev/colab-wheels/public/simple/\n",
            "Collecting yfinance\n",
            "  Downloading yfinance-0.1.74-py2.py3-none-any.whl (27 kB)\n",
            "Requirement already satisfied: multitasking>=0.0.7 in /usr/local/lib/python3.7/dist-packages (from yfinance) (0.0.11)\n",
            "Requirement already satisfied: numpy>=1.15 in /usr/local/lib/python3.7/dist-packages (from yfinance) (1.21.6)\n",
            "Collecting requests>=2.26\n",
            "  Downloading requests-2.28.1-py3-none-any.whl (62 kB)\n",
            "\u001b[K     |████████████████████████████████| 62 kB 1.1 MB/s \n",
            "\u001b[?25hRequirement already satisfied: pandas>=0.24.0 in /usr/local/lib/python3.7/dist-packages (from yfinance) (1.3.5)\n",
            "Requirement already satisfied: lxml>=4.5.1 in /usr/local/lib/python3.7/dist-packages (from yfinance) (4.9.1)\n",
            "Requirement already satisfied: python-dateutil>=2.7.3 in /usr/local/lib/python3.7/dist-packages (from pandas>=0.24.0->yfinance) (2.8.2)\n",
            "Requirement already satisfied: pytz>=2017.3 in /usr/local/lib/python3.7/dist-packages (from pandas>=0.24.0->yfinance) (2022.2.1)\n",
            "Requirement already satisfied: six>=1.5 in /usr/local/lib/python3.7/dist-packages (from python-dateutil>=2.7.3->pandas>=0.24.0->yfinance) (1.15.0)\n",
            "Requirement already satisfied: idna<4,>=2.5 in /usr/local/lib/python3.7/dist-packages (from requests>=2.26->yfinance) (2.10)\n",
            "Requirement already satisfied: charset-normalizer<3,>=2 in /usr/local/lib/python3.7/dist-packages (from requests>=2.26->yfinance) (2.1.1)\n",
            "Requirement already satisfied: certifi>=2017.4.17 in /usr/local/lib/python3.7/dist-packages (from requests>=2.26->yfinance) (2022.6.15)\n",
            "Requirement already satisfied: urllib3<1.27,>=1.21.1 in /usr/local/lib/python3.7/dist-packages (from requests>=2.26->yfinance) (1.24.3)\n",
            "Installing collected packages: requests, yfinance\n",
            "  Attempting uninstall: requests\n",
            "    Found existing installation: requests 2.23.0\n",
            "    Uninstalling requests-2.23.0:\n",
            "      Successfully uninstalled requests-2.23.0\n",
            "Successfully installed requests-2.28.1 yfinance-0.1.74\n",
            "Looking in indexes: https://pypi.org/simple, https://us-python.pkg.dev/colab-wheels/public/simple/\n",
            "Collecting mpl_finance\n",
            "  Downloading mpl_finance-0.10.1-py3-none-any.whl (8.4 kB)\n",
            "Requirement already satisfied: matplotlib in /usr/local/lib/python3.7/dist-packages (from mpl_finance) (3.2.2)\n",
            "Requirement already satisfied: numpy>=1.11 in /usr/local/lib/python3.7/dist-packages (from matplotlib->mpl_finance) (1.21.6)\n",
            "Requirement already satisfied: python-dateutil>=2.1 in /usr/local/lib/python3.7/dist-packages (from matplotlib->mpl_finance) (2.8.2)\n",
            "Requirement already satisfied: pyparsing!=2.0.4,!=2.1.2,!=2.1.6,>=2.0.1 in /usr/local/lib/python3.7/dist-packages (from matplotlib->mpl_finance) (3.0.9)\n",
            "Requirement already satisfied: kiwisolver>=1.0.1 in /usr/local/lib/python3.7/dist-packages (from matplotlib->mpl_finance) (1.4.4)\n",
            "Requirement already satisfied: cycler>=0.10 in /usr/local/lib/python3.7/dist-packages (from matplotlib->mpl_finance) (0.11.0)\n",
            "Requirement already satisfied: typing-extensions in /usr/local/lib/python3.7/dist-packages (from kiwisolver>=1.0.1->matplotlib->mpl_finance) (4.1.1)\n",
            "Requirement already satisfied: six>=1.5 in /usr/local/lib/python3.7/dist-packages (from python-dateutil>=2.1->matplotlib->mpl_finance) (1.15.0)\n",
            "Installing collected packages: mpl-finance\n",
            "Successfully installed mpl-finance-0.10.1\n"
          ]
        }
      ],
      "source": [
        "!pip install yfinance\n",
        "!pip install mpl_finance"
      ]
    },
    {
      "cell_type": "code",
      "execution_count": 3,
      "metadata": {
        "id": "Od_87k3EZXNM"
      },
      "outputs": [],
      "source": [
        "import pandas as pd\n",
        "import numpy as np\n",
        "import yfinance as yf\n",
        "from mpl_finance import candlestick_ohlc\n",
        "import matplotlib.dates as mpl_dates\n",
        "import matplotlib.pyplot as plt"
      ]
    },
    {
      "cell_type": "code",
      "execution_count": 4,
      "metadata": {
        "id": "g96nPxUmZZN4"
      },
      "outputs": [],
      "source": [
        "# El código aquí permitirá cambiar los gráficos a modo oscuro para aquellos que elijan programar en modo oscuro\n",
        "import matplotlib.pyplot as plt\n",
        "\n",
        "import matplotlib as mpl\n",
        "from matplotlib import cycler\n",
        "colors = cycler('color',\n",
        "                ['#669FEE', '#66EE91', '#9988DD',\n",
        "                 '#EECC55', '#88BB44', '#FFBBBB'])\n",
        "plt.rc('figure', facecolor='#313233')\n",
        "plt.rc('axes', facecolor=\"#313233\", edgecolor='none',\n",
        "       axisbelow=True, grid=True, prop_cycle=colors,\n",
        "       labelcolor='gray')\n",
        "plt.rc('grid', color='474A4A', linestyle='solid')\n",
        "plt.rc('xtick', color='gray')\n",
        "plt.rc('ytick', direction='out', color='gray')\n",
        "plt.rc('legend', facecolor=\"#313233\", edgecolor=\"#313233\")\n",
        "plt.rc(\"text\", color=\"#C9C9C9\")\n",
        "plt.rcParams['figure.figsize'] = [20, 8]"
      ]
    },
    {
      "cell_type": "markdown",
      "metadata": {
        "id": "3F3tzj1dZcX0"
      },
      "source": [
        "# Importar los datos"
      ]
    },
    {
      "cell_type": "code",
      "execution_count": 5,
      "metadata": {
        "colab": {
          "base_uri": "https://localhost:8080/",
          "height": 473
        },
        "id": "XPg7jeVyZbYh",
        "outputId": "3c4e6023-0e6b-4489-f10d-0af40bb226c3"
      },
      "outputs": [
        {
          "name": "stdout",
          "output_type": "stream",
          "text": [
            "\r[*********************100%***********************]  1 of 1 completed\n"
          ]
        },
        {
          "data": {
            "text/html": [
              "\n",
              "  <div id=\"df-78f2cb5c-b435-41f0-83d5-550fc5db92d9\">\n",
              "    <div class=\"colab-df-container\">\n",
              "      <div>\n",
              "<style scoped>\n",
              "    .dataframe tbody tr th:only-of-type {\n",
              "        vertical-align: middle;\n",
              "    }\n",
              "\n",
              "    .dataframe tbody tr th {\n",
              "        vertical-align: top;\n",
              "    }\n",
              "\n",
              "    .dataframe thead th {\n",
              "        text-align: right;\n",
              "    }\n",
              "</style>\n",
              "<table border=\"1\" class=\"dataframe\">\n",
              "  <thead>\n",
              "    <tr style=\"text-align: right;\">\n",
              "      <th></th>\n",
              "      <th>open</th>\n",
              "      <th>high</th>\n",
              "      <th>low</th>\n",
              "      <th>close</th>\n",
              "      <th>adj close</th>\n",
              "      <th>volume</th>\n",
              "      <th>date</th>\n",
              "      <th>Candle way</th>\n",
              "      <th>amplitude</th>\n",
              "    </tr>\n",
              "    <tr>\n",
              "      <th>time</th>\n",
              "      <th></th>\n",
              "      <th></th>\n",
              "      <th></th>\n",
              "      <th></th>\n",
              "      <th></th>\n",
              "      <th></th>\n",
              "      <th></th>\n",
              "      <th></th>\n",
              "      <th></th>\n",
              "    </tr>\n",
              "  </thead>\n",
              "  <tbody>\n",
              "    <tr>\n",
              "      <th>2010-01-04</th>\n",
              "      <td>15.615220</td>\n",
              "      <td>15.678981</td>\n",
              "      <td>15.547723</td>\n",
              "      <td>15.610239</td>\n",
              "      <td>15.610239</td>\n",
              "      <td>78541293</td>\n",
              "      <td>733776.0</td>\n",
              "      <td>-1</td>\n",
              "      <td>0.004981</td>\n",
              "    </tr>\n",
              "    <tr>\n",
              "      <th>2010-01-05</th>\n",
              "      <td>15.620949</td>\n",
              "      <td>15.637387</td>\n",
              "      <td>15.480475</td>\n",
              "      <td>15.541497</td>\n",
              "      <td>15.541497</td>\n",
              "      <td>120638494</td>\n",
              "      <td>733777.0</td>\n",
              "      <td>-1</td>\n",
              "      <td>0.079452</td>\n",
              "    </tr>\n",
              "    <tr>\n",
              "      <th>2010-01-06</th>\n",
              "      <td>15.588072</td>\n",
              "      <td>15.588072</td>\n",
              "      <td>15.102393</td>\n",
              "      <td>15.149715</td>\n",
              "      <td>15.149715</td>\n",
              "      <td>159744526</td>\n",
              "      <td>733778.0</td>\n",
              "      <td>-1</td>\n",
              "      <td>0.438356</td>\n",
              "    </tr>\n",
              "    <tr>\n",
              "      <th>2010-01-07</th>\n",
              "      <td>15.178109</td>\n",
              "      <td>15.193053</td>\n",
              "      <td>14.760922</td>\n",
              "      <td>14.797037</td>\n",
              "      <td>14.797037</td>\n",
              "      <td>257533695</td>\n",
              "      <td>733779.0</td>\n",
              "      <td>-1</td>\n",
              "      <td>0.381072</td>\n",
              "    </tr>\n",
              "    <tr>\n",
              "      <th>2010-01-08</th>\n",
              "      <td>14.744733</td>\n",
              "      <td>15.024933</td>\n",
              "      <td>14.672753</td>\n",
              "      <td>14.994298</td>\n",
              "      <td>14.994298</td>\n",
              "      <td>189680313</td>\n",
              "      <td>733780.0</td>\n",
              "      <td>1</td>\n",
              "      <td>0.249565</td>\n",
              "    </tr>\n",
              "    <tr>\n",
              "      <th>...</th>\n",
              "      <td>...</td>\n",
              "      <td>...</td>\n",
              "      <td>...</td>\n",
              "      <td>...</td>\n",
              "      <td>...</td>\n",
              "      <td>...</td>\n",
              "      <td>...</td>\n",
              "      <td>...</td>\n",
              "      <td>...</td>\n",
              "    </tr>\n",
              "    <tr>\n",
              "      <th>2022-09-09</th>\n",
              "      <td>110.050003</td>\n",
              "      <td>112.000000</td>\n",
              "      <td>110.000000</td>\n",
              "      <td>111.779999</td>\n",
              "      <td>111.779999</td>\n",
              "      <td>21732900</td>\n",
              "      <td>738407.0</td>\n",
              "      <td>1</td>\n",
              "      <td>1.729996</td>\n",
              "    </tr>\n",
              "    <tr>\n",
              "      <th>2022-09-12</th>\n",
              "      <td>111.989998</td>\n",
              "      <td>112.639999</td>\n",
              "      <td>110.930000</td>\n",
              "      <td>111.870003</td>\n",
              "      <td>111.870003</td>\n",
              "      <td>19732900</td>\n",
              "      <td>738410.0</td>\n",
              "      <td>-1</td>\n",
              "      <td>0.119995</td>\n",
              "    </tr>\n",
              "    <tr>\n",
              "      <th>2022-09-13</th>\n",
              "      <td>108.889999</td>\n",
              "      <td>109.370003</td>\n",
              "      <td>105.000000</td>\n",
              "      <td>105.309998</td>\n",
              "      <td>105.309998</td>\n",
              "      <td>33015000</td>\n",
              "      <td>738411.0</td>\n",
              "      <td>-1</td>\n",
              "      <td>3.580002</td>\n",
              "    </tr>\n",
              "    <tr>\n",
              "      <th>2022-09-14</th>\n",
              "      <td>105.440002</td>\n",
              "      <td>106.099998</td>\n",
              "      <td>104.500000</td>\n",
              "      <td>105.870003</td>\n",
              "      <td>105.870003</td>\n",
              "      <td>22080500</td>\n",
              "      <td>738412.0</td>\n",
              "      <td>1</td>\n",
              "      <td>0.430000</td>\n",
              "    </tr>\n",
              "    <tr>\n",
              "      <th>2022-09-15</th>\n",
              "      <td>105.010002</td>\n",
              "      <td>106.199997</td>\n",
              "      <td>104.220001</td>\n",
              "      <td>104.220001</td>\n",
              "      <td>104.220001</td>\n",
              "      <td>5730253</td>\n",
              "      <td>738413.0</td>\n",
              "      <td>-1</td>\n",
              "      <td>0.790001</td>\n",
              "    </tr>\n",
              "  </tbody>\n",
              "</table>\n",
              "<p>3198 rows × 9 columns</p>\n",
              "</div>\n",
              "      <button class=\"colab-df-convert\" onclick=\"convertToInteractive('df-78f2cb5c-b435-41f0-83d5-550fc5db92d9')\"\n",
              "              title=\"Convert this dataframe to an interactive table.\"\n",
              "              style=\"display:none;\">\n",
              "        \n",
              "  <svg xmlns=\"http://www.w3.org/2000/svg\" height=\"24px\"viewBox=\"0 0 24 24\"\n",
              "       width=\"24px\">\n",
              "    <path d=\"M0 0h24v24H0V0z\" fill=\"none\"/>\n",
              "    <path d=\"M18.56 5.44l.94 2.06.94-2.06 2.06-.94-2.06-.94-.94-2.06-.94 2.06-2.06.94zm-11 1L8.5 8.5l.94-2.06 2.06-.94-2.06-.94L8.5 2.5l-.94 2.06-2.06.94zm10 10l.94 2.06.94-2.06 2.06-.94-2.06-.94-.94-2.06-.94 2.06-2.06.94z\"/><path d=\"M17.41 7.96l-1.37-1.37c-.4-.4-.92-.59-1.43-.59-.52 0-1.04.2-1.43.59L10.3 9.45l-7.72 7.72c-.78.78-.78 2.05 0 2.83L4 21.41c.39.39.9.59 1.41.59.51 0 1.02-.2 1.41-.59l7.78-7.78 2.81-2.81c.8-.78.8-2.07 0-2.86zM5.41 20L4 18.59l7.72-7.72 1.47 1.35L5.41 20z\"/>\n",
              "  </svg>\n",
              "      </button>\n",
              "      \n",
              "  <style>\n",
              "    .colab-df-container {\n",
              "      display:flex;\n",
              "      flex-wrap:wrap;\n",
              "      gap: 12px;\n",
              "    }\n",
              "\n",
              "    .colab-df-convert {\n",
              "      background-color: #E8F0FE;\n",
              "      border: none;\n",
              "      border-radius: 50%;\n",
              "      cursor: pointer;\n",
              "      display: none;\n",
              "      fill: #1967D2;\n",
              "      height: 32px;\n",
              "      padding: 0 0 0 0;\n",
              "      width: 32px;\n",
              "    }\n",
              "\n",
              "    .colab-df-convert:hover {\n",
              "      background-color: #E2EBFA;\n",
              "      box-shadow: 0px 1px 2px rgba(60, 64, 67, 0.3), 0px 1px 3px 1px rgba(60, 64, 67, 0.15);\n",
              "      fill: #174EA6;\n",
              "    }\n",
              "\n",
              "    [theme=dark] .colab-df-convert {\n",
              "      background-color: #3B4455;\n",
              "      fill: #D2E3FC;\n",
              "    }\n",
              "\n",
              "    [theme=dark] .colab-df-convert:hover {\n",
              "      background-color: #434B5C;\n",
              "      box-shadow: 0px 1px 3px 1px rgba(0, 0, 0, 0.15);\n",
              "      filter: drop-shadow(0px 1px 2px rgba(0, 0, 0, 0.3));\n",
              "      fill: #FFFFFF;\n",
              "    }\n",
              "  </style>\n",
              "\n",
              "      <script>\n",
              "        const buttonEl =\n",
              "          document.querySelector('#df-78f2cb5c-b435-41f0-83d5-550fc5db92d9 button.colab-df-convert');\n",
              "        buttonEl.style.display =\n",
              "          google.colab.kernel.accessAllowed ? 'block' : 'none';\n",
              "\n",
              "        async function convertToInteractive(key) {\n",
              "          const element = document.querySelector('#df-78f2cb5c-b435-41f0-83d5-550fc5db92d9');\n",
              "          const dataTable =\n",
              "            await google.colab.kernel.invokeFunction('convertToInteractive',\n",
              "                                                     [key], {});\n",
              "          if (!dataTable) return;\n",
              "\n",
              "          const docLinkHtml = 'Like what you see? Visit the ' +\n",
              "            '<a target=\"_blank\" href=https://colab.research.google.com/notebooks/data_table.ipynb>data table notebook</a>'\n",
              "            + ' to learn more about interactive tables.';\n",
              "          element.innerHTML = '';\n",
              "          dataTable['output_type'] = 'display_data';\n",
              "          await google.colab.output.renderOutput(dataTable, element);\n",
              "          const docLink = document.createElement('div');\n",
              "          docLink.innerHTML = docLinkHtml;\n",
              "          element.appendChild(docLink);\n",
              "        }\n",
              "      </script>\n",
              "    </div>\n",
              "  </div>\n",
              "  "
            ],
            "text/plain": [
              "                  open        high         low       close   adj close  \\\n",
              "time                                                                     \n",
              "2010-01-04   15.615220   15.678981   15.547723   15.610239   15.610239   \n",
              "2010-01-05   15.620949   15.637387   15.480475   15.541497   15.541497   \n",
              "2010-01-06   15.588072   15.588072   15.102393   15.149715   15.149715   \n",
              "2010-01-07   15.178109   15.193053   14.760922   14.797037   14.797037   \n",
              "2010-01-08   14.744733   15.024933   14.672753   14.994298   14.994298   \n",
              "...                ...         ...         ...         ...         ...   \n",
              "2022-09-09  110.050003  112.000000  110.000000  111.779999  111.779999   \n",
              "2022-09-12  111.989998  112.639999  110.930000  111.870003  111.870003   \n",
              "2022-09-13  108.889999  109.370003  105.000000  105.309998  105.309998   \n",
              "2022-09-14  105.440002  106.099998  104.500000  105.870003  105.870003   \n",
              "2022-09-15  105.010002  106.199997  104.220001  104.220001  104.220001   \n",
              "\n",
              "               volume      date  Candle way  amplitude  \n",
              "time                                                    \n",
              "2010-01-04   78541293  733776.0          -1   0.004981  \n",
              "2010-01-05  120638494  733777.0          -1   0.079452  \n",
              "2010-01-06  159744526  733778.0          -1   0.438356  \n",
              "2010-01-07  257533695  733779.0          -1   0.381072  \n",
              "2010-01-08  189680313  733780.0           1   0.249565  \n",
              "...               ...       ...         ...        ...  \n",
              "2022-09-09   21732900  738407.0           1   1.729996  \n",
              "2022-09-12   19732900  738410.0          -1   0.119995  \n",
              "2022-09-13   33015000  738411.0          -1   3.580002  \n",
              "2022-09-14   22080500  738412.0           1   0.430000  \n",
              "2022-09-15    5730253  738413.0          -1   0.790001  \n",
              "\n",
              "[3198 rows x 9 columns]"
            ]
          },
          "execution_count": 5,
          "metadata": {},
          "output_type": "execute_result"
        }
      ],
      "source": [
        "# Importar los precios de activos desde Yahoo Finance\n",
        "df = yf.download(\"GOOG\", start=\"2010-01-01\")\n",
        "\n",
        "# Crear la columna de Fecha para representar los diagrama de vela más adelante(Not mandatory if you don't want to plot the candlestick)\n",
        "df[\"Date\"] = pd.to_datetime(df.index)\n",
        "df[\"Date\"] = df[\"Date\"].apply(mpl_dates.date2num)\n",
        "\n",
        "\n",
        "# Renombrar las columnas\n",
        "df.columns = [\"open\", \"high\", \"low\", \"close\", \"adj close\", \"volume\", \"date\"]\n",
        "df.index.name = \"time\"\n",
        "\n",
        "df[\"Candle way\"] = -1\n",
        "df.loc[(df[\"open\"] - df[\"close\"]) < 0, \"Candle way\"] = 1\n",
        "df[\"amplitude\"] = np.abs(df[\"close\"] - df[\"open\"])\n",
        "\n",
        "\n",
        "df"
      ]
    },
    {
      "cell_type": "markdown",
      "metadata": {
        "id": "Ysgt9wqS8LsL"
      },
      "source": [
        "# Figura envolvente alcista (Bullish engulfing)"
      ]
    },
    {
      "cell_type": "code",
      "execution_count": 6,
      "metadata": {
        "id": "SMV8jhW2Zjvl"
      },
      "outputs": [],
      "source": [
        "df[\"Bullish Engulfing\"] = np.nan\n",
        "\n",
        "df.loc[\n",
        "       # 5 velas decrecientes (rojas) consecutivas y un incremento (verde) en el día actual\n",
        "       (df[\"Candle way\"].shift(5) == -1) &\\\n",
        "       (df[\"Candle way\"].shift(4) == -1) &\\\n",
        "       (df[\"Candle way\"].shift(3) == -1) &\\\n",
        "       (df[\"Candle way\"].shift(2) == -1) &\\\n",
        "       (df[\"Candle way\"].shift(1) == -1) &\\\n",
        "       (df[\"Candle way\"] == 1) &\\\n",
        "      \n",
        "\n",
        "       # Valor de cierre de la última vela decreciente = Valor de apertura de la vela de hoy\n",
        "       (df[\"close\"].shift(1) < df[\"open\"]*(1+0.5/100)) &\\\n",
        "       (df[\"close\"].shift(1) > df[\"open\"]*(1-0.5/100)) &\\\n",
        "\n",
        "\n",
        "       # La última vela decreciente es más debil (menor amplitud) que el crecimiento de la vela de hoy (mayor amplitud)\n",
        "       (df[\"amplitude\"].shift(1)*1.5 < df[\"amplitude\"]), \"Bullish Engulfing\"] = 1\n"
      ]
    },
    {
      "cell_type": "code",
      "execution_count": 7,
      "metadata": {
        "colab": {
          "base_uri": "https://localhost:8080/"
        },
        "id": "UaQTR-p4j6y1",
        "outputId": "47d76719-b097-419f-ee24-d922351a5958"
      },
      "outputs": [
        {
          "data": {
            "text/plain": [
              "time\n",
              "2010-03-01    1.0\n",
              "2012-01-27    1.0\n",
              "2013-06-28    1.0\n",
              "2013-07-30    1.0\n",
              "2013-08-19    1.0\n",
              "2015-05-04    1.0\n",
              "2016-06-23    1.0\n",
              "2017-04-12    1.0\n",
              "2018-01-02    1.0\n",
              "2018-11-15    1.0\n",
              "Name: Bullish Engulfing, dtype: float64"
            ]
          },
          "execution_count": 7,
          "metadata": {},
          "output_type": "execute_result"
        }
      ],
      "source": [
        "df[\"Bullish Engulfing\"].dropna()\n"
      ]
    },
    {
      "cell_type": "markdown",
      "metadata": {
        "id": "9nLwPAnW-HI5"
      },
      "source": [
        "# Verificación"
      ]
    },
    {
      "cell_type": "code",
      "execution_count": 8,
      "metadata": {
        "colab": {
          "base_uri": "https://localhost:8080/",
          "height": 549
        },
        "id": "T9xHn68Uj87X",
        "outputId": "68e31944-d8f4-490e-fb82-0db82f0230f1"
      },
      "outputs": [
        {
          "data": {
            "image/png": "[encoded data removed]",
            "text/plain": [
              "<Figure size 1440x576 with 1 Axes>"
            ]
          },
          "metadata": {},
          "output_type": "display_data"
        }
      ],
      "source": [
        "df_bis = df.loc[\"2012-01-20\":\"2012-02-10\"]\n",
        "\n",
        "# Inicializar el gráfico\n",
        "fig, ax = plt.subplots()\n",
        "\n",
        "# Representar el candlestick\n",
        "candlestick_ohlc(ax,df_bis[[\"date\", \"open\", \"high\", \"low\", \"close\"]].values,width=0.6, \\\n",
        "                  colorup='#57CE95', colordown='#CE5757', alpha=0.8)\n",
        "\n",
        "# Poner la fecha en el eje de las x\n",
        "date_format = mpl_dates.DateFormatter('%d %b %Y')\n",
        "ax.xaxis.set_major_formatter(date_format)\n",
        "fig.autofmt_xdate()\n",
        "fig.tight_layout()\n",
        "plt.show()\n",
        "plt.close()"
      ]
    },
    {
      "cell_type": "markdown",
      "metadata": {
        "id": "XOHEvrdpCKxK"
      },
      "source": [
        "# Figura Envolvente Bajista (Bearish Engulfing)"
      ]
    },
    {
      "cell_type": "code",
      "execution_count": 9,
      "metadata": {
        "id": "qrmMYpaAmJkq"
      },
      "outputs": [],
      "source": [
        "df[\"Bearish Engulfing\"] = np.nan\n",
        "\n",
        "df.loc[\n",
        "       # 5 velas crecientes (verdes) consecutivas y un decremento (roja) en el día actual\n",
        "       (df[\"Candle way\"].shift(5) == 1) &\\\n",
        "       (df[\"Candle way\"].shift(4) == 1) &\\\n",
        "       (df[\"Candle way\"].shift(3) == 1) &\\\n",
        "       (df[\"Candle way\"].shift(2) == 1) &\\\n",
        "       (df[\"Candle way\"].shift(1) == 1) &\\\n",
        "       (df[\"Candle way\"] == -1) &\\\n",
        "\n",
        "       # Valor de cierre de la última vela creciente = Valor de apertura de la vela de hoy\n",
        "       (df[\"close\"].shift(1) < df[\"open\"]*(1+0.5/100)) &\\\n",
        "       (df[\"close\"].shift(1) > df[\"open\"]*(1-0.5/100)) &\\\n",
        "\n",
        "       # La última vela creciente es más debil (menor amplitud) que el decrecimiento de la vela de hoy (mayor amplitud)\n",
        "       (df[\"amplitude\"].shift(1) * 1.5< df[\"amplitude\"]), \"Bearish Engulfing\"] = -1"
      ]
    },
    {
      "cell_type": "code",
      "execution_count": 10,
      "metadata": {
        "colab": {
          "base_uri": "https://localhost:8080/"
        },
        "id": "bN4hrJoOpAni",
        "outputId": "f273a8d0-1d44-4a0c-907e-c6606a270226"
      },
      "outputs": [
        {
          "data": {
            "text/plain": [
              "time\n",
              "2015-03-06   -1.0\n",
              "2015-07-23   -1.0\n",
              "2015-11-09   -1.0\n",
              "2017-05-31   -1.0\n",
              "2018-02-22   -1.0\n",
              "2019-12-11   -1.0\n",
              "2020-02-20   -1.0\n",
              "2020-12-09   -1.0\n",
              "2021-07-15   -1.0\n",
              "2021-07-27   -1.0\n",
              "2021-08-26   -1.0\n",
              "2021-12-28   -1.0\n",
              "Name: Bearish Engulfing, dtype: float64"
            ]
          },
          "execution_count": 10,
          "metadata": {},
          "output_type": "execute_result"
        }
      ],
      "source": [
        "df[\"Bearish Engulfing\"].dropna()"
      ]
    },
    {
      "cell_type": "code",
      "execution_count": 11,
      "metadata": {
        "colab": {
          "base_uri": "https://localhost:8080/",
          "height": 549
        },
        "id": "uU0AkkQVpByu",
        "outputId": "a645c730-f1cb-41da-b3eb-b60697bf3ecc"
      },
      "outputs": [
        {
          "data": {
            "image/png": "[encoded data removed]",
            "text/plain": [
              "<Figure size 1440x576 with 1 Axes>"
            ]
          },
          "metadata": {},
          "output_type": "display_data"
        }
      ],
      "source": [
        "df_bis = df.loc[\"2015-02-27\":\"2015-03-15\"]\n",
        "\n",
        "# Inicializar el gráfico\n",
        "fig, ax = plt.subplots()\n",
        "\n",
        "# Representar la candlestick\n",
        "candlestick_ohlc(ax,df_bis[[\"date\", \"open\", \"high\", \"low\", \"close\"]].values,width=0.6, \\\n",
        "                  colorup='#57CE95', colordown='#CE5757', alpha=0.8)\n",
        "\n",
        "# Colocar la fecha en el eje de las x\n",
        "date_format = mpl_dates.DateFormatter('%d %b %Y')\n",
        "ax.xaxis.set_major_formatter(date_format)\n",
        "fig.autofmt_xdate()\n",
        "fig.tight_layout()"
      ]
    },
    {
      "cell_type": "markdown",
      "metadata": {
        "id": "F2JYiZ-up2RI"
      },
      "source": [
        "# Backtest"
      ]
    },
    {
      "cell_type": "code",
      "execution_count": 14,
      "metadata": {
        "colab": {
          "base_uri": "https://localhost:8080/"
        },
        "id": "Pq0GtswCqJ8W",
        "outputId": "28ddf504-aa3f-4b0e-f276-357811b23f12"
      },
      "outputs": [
        {
          "data": {
            "text/plain": [
              "time\n",
              "2010-01-04    0.0\n",
              "2010-01-05    0.0\n",
              "2010-01-06    0.0\n",
              "2010-01-07    0.0\n",
              "2010-01-08    0.0\n",
              "             ... \n",
              "2022-09-09    0.0\n",
              "2022-09-12    0.0\n",
              "2022-09-13    0.0\n",
              "2022-09-14    0.0\n",
              "2022-09-15    0.0\n",
              "Name: signal, Length: 3198, dtype: float64"
            ]
          },
          "execution_count": 14,
          "metadata": {},
          "output_type": "execute_result"
        }
      ],
      "source": [
        "df[\"signal\"] = df[\"Bullish Engulfing\"].fillna(value=0) + df[\"Bearish Engulfing\"].fillna(value=0)\n",
        "df[\"signal\"].dropna()"
      ]
    },
    {
      "cell_type": "code",
      "execution_count": 21,
      "metadata": {
        "colab": {
          "base_uri": "https://localhost:8080/",
          "height": 483
        },
        "id": "A0l-buFFp4DU",
        "outputId": "e8b0289e-91d6-4b43-b72d-67da322914c6"
      },
      "outputs": [
        {
          "data": {
            "text/plain": [
              "<matplotlib.axes._subplots.AxesSubplot at 0x7fdae7628d90>"
            ]
          },
          "execution_count": 21,
          "metadata": {},
          "output_type": "execute_result"
        },
        {
          "data": {
            "image/png": "[encoded data removed]",
            "text/plain": [
              "<Figure size 1080x576 with 1 Axes>"
            ]
          },
          "metadata": {},
          "output_type": "display_data"
        }
      ],
      "source": [
        "duration = 5\n",
        "\n",
        "# Calcular el porcentaje de variación del activo\n",
        "df[\"pct\"] = df[\"close\"].pct_change(1)\n",
        "\n",
        "# Calcular el retorno de la estrategia\n",
        "#df[\"return\"] = df[\"signal\"].shift(1) * df[\"pct\"].shift(0)\n",
        "#df[\"return\"] = df[\"signal\"].shift(2) * (df[\"pct\"].shift(0) + df[\"pct\"].shift(1))\n",
        "df[\"return\"] = np.array([df[\"pct\"].shift(i) for i in range(duration)]).sum(axis=0) * (df[\"signal\"].shift(duration))\n",
        "\n",
        "\n",
        "df[\"return\"].cumsum().plot(figsize=(15,8))"
      ]
    },
    {
      "cell_type": "code",
      "execution_count": 17,
      "metadata": {
        "colab": {
          "base_uri": "https://localhost:8080/",
          "height": 300
        },
        "id": "vrGWujLrpmqq",
        "outputId": "6960a358-67ed-4736-cdb4-286824635eab"
      },
      "outputs": [
        {
          "data": {
            "text/html": [
              "\n",
              "  <div id=\"df-bb684912-aac7-4dce-8bef-ab27f474707f\">\n",
              "    <div class=\"colab-df-container\">\n",
              "      <div>\n",
              "<style scoped>\n",
              "    .dataframe tbody tr th:only-of-type {\n",
              "        vertical-align: middle;\n",
              "    }\n",
              "\n",
              "    .dataframe tbody tr th {\n",
              "        vertical-align: top;\n",
              "    }\n",
              "\n",
              "    .dataframe thead th {\n",
              "        text-align: right;\n",
              "    }\n",
              "</style>\n",
              "<table border=\"1\" class=\"dataframe\">\n",
              "  <thead>\n",
              "    <tr style=\"text-align: right;\">\n",
              "      <th></th>\n",
              "      <th>0</th>\n",
              "      <th>1</th>\n",
              "      <th>2</th>\n",
              "      <th>3</th>\n",
              "      <th>4</th>\n",
              "      <th>5</th>\n",
              "      <th>6</th>\n",
              "      <th>7</th>\n",
              "      <th>8</th>\n",
              "      <th>9</th>\n",
              "      <th>...</th>\n",
              "      <th>3188</th>\n",
              "      <th>3189</th>\n",
              "      <th>3190</th>\n",
              "      <th>3191</th>\n",
              "      <th>3192</th>\n",
              "      <th>3193</th>\n",
              "      <th>3194</th>\n",
              "      <th>3195</th>\n",
              "      <th>3196</th>\n",
              "      <th>3197</th>\n",
              "    </tr>\n",
              "  </thead>\n",
              "  <tbody>\n",
              "    <tr>\n",
              "      <th>0</th>\n",
              "      <td>NaN</td>\n",
              "      <td>-0.004404</td>\n",
              "      <td>-0.025209</td>\n",
              "      <td>-0.023280</td>\n",
              "      <td>0.013331</td>\n",
              "      <td>-0.001512</td>\n",
              "      <td>-0.017684</td>\n",
              "      <td>-0.005741</td>\n",
              "      <td>0.004701</td>\n",
              "      <td>-0.016699</td>\n",
              "      <td>...</td>\n",
              "      <td>0.012826</td>\n",
              "      <td>-0.016915</td>\n",
              "      <td>-0.011042</td>\n",
              "      <td>0.027912</td>\n",
              "      <td>-0.009595</td>\n",
              "      <td>0.021568</td>\n",
              "      <td>0.000805</td>\n",
              "      <td>-0.058640</td>\n",
              "      <td>0.005318</td>\n",
              "      <td>-0.015585</td>\n",
              "    </tr>\n",
              "    <tr>\n",
              "      <th>1</th>\n",
              "      <td>NaN</td>\n",
              "      <td>NaN</td>\n",
              "      <td>-0.004404</td>\n",
              "      <td>-0.025209</td>\n",
              "      <td>-0.023280</td>\n",
              "      <td>0.013331</td>\n",
              "      <td>-0.001512</td>\n",
              "      <td>-0.017684</td>\n",
              "      <td>-0.005741</td>\n",
              "      <td>0.004701</td>\n",
              "      <td>...</td>\n",
              "      <td>-0.006915</td>\n",
              "      <td>0.012826</td>\n",
              "      <td>-0.016915</td>\n",
              "      <td>-0.011042</td>\n",
              "      <td>0.027912</td>\n",
              "      <td>-0.009595</td>\n",
              "      <td>0.021568</td>\n",
              "      <td>0.000805</td>\n",
              "      <td>-0.058640</td>\n",
              "      <td>0.005318</td>\n",
              "    </tr>\n",
              "    <tr>\n",
              "      <th>2</th>\n",
              "      <td>NaN</td>\n",
              "      <td>NaN</td>\n",
              "      <td>NaN</td>\n",
              "      <td>-0.004404</td>\n",
              "      <td>-0.025209</td>\n",
              "      <td>-0.023280</td>\n",
              "      <td>0.013331</td>\n",
              "      <td>-0.001512</td>\n",
              "      <td>-0.017684</td>\n",
              "      <td>-0.005741</td>\n",
              "      <td>...</td>\n",
              "      <td>-0.003897</td>\n",
              "      <td>-0.006915</td>\n",
              "      <td>0.012826</td>\n",
              "      <td>-0.016915</td>\n",
              "      <td>-0.011042</td>\n",
              "      <td>0.027912</td>\n",
              "      <td>-0.009595</td>\n",
              "      <td>0.021568</td>\n",
              "      <td>0.000805</td>\n",
              "      <td>-0.058640</td>\n",
              "    </tr>\n",
              "    <tr>\n",
              "      <th>3</th>\n",
              "      <td>NaN</td>\n",
              "      <td>NaN</td>\n",
              "      <td>NaN</td>\n",
              "      <td>NaN</td>\n",
              "      <td>-0.004404</td>\n",
              "      <td>-0.025209</td>\n",
              "      <td>-0.023280</td>\n",
              "      <td>0.013331</td>\n",
              "      <td>-0.001512</td>\n",
              "      <td>-0.017684</td>\n",
              "      <td>...</td>\n",
              "      <td>-0.008625</td>\n",
              "      <td>-0.003897</td>\n",
              "      <td>-0.006915</td>\n",
              "      <td>0.012826</td>\n",
              "      <td>-0.016915</td>\n",
              "      <td>-0.011042</td>\n",
              "      <td>0.027912</td>\n",
              "      <td>-0.009595</td>\n",
              "      <td>0.021568</td>\n",
              "      <td>0.000805</td>\n",
              "    </tr>\n",
              "    <tr>\n",
              "      <th>4</th>\n",
              "      <td>NaN</td>\n",
              "      <td>NaN</td>\n",
              "      <td>NaN</td>\n",
              "      <td>NaN</td>\n",
              "      <td>NaN</td>\n",
              "      <td>-0.004404</td>\n",
              "      <td>-0.025209</td>\n",
              "      <td>-0.023280</td>\n",
              "      <td>0.013331</td>\n",
              "      <td>-0.001512</td>\n",
              "      <td>...</td>\n",
              "      <td>-0.054375</td>\n",
              "      <td>-0.008625</td>\n",
              "      <td>-0.003897</td>\n",
              "      <td>-0.006915</td>\n",
              "      <td>0.012826</td>\n",
              "      <td>-0.016915</td>\n",
              "      <td>-0.011042</td>\n",
              "      <td>0.027912</td>\n",
              "      <td>-0.009595</td>\n",
              "      <td>0.021568</td>\n",
              "    </tr>\n",
              "  </tbody>\n",
              "</table>\n",
              "<p>5 rows × 3198 columns</p>\n",
              "</div>\n",
              "      <button class=\"colab-df-convert\" onclick=\"convertToInteractive('df-bb684912-aac7-4dce-8bef-ab27f474707f')\"\n",
              "              title=\"Convert this dataframe to an interactive table.\"\n",
              "              style=\"display:none;\">\n",
              "        \n",
              "  <svg xmlns=\"http://www.w3.org/2000/svg\" height=\"24px\"viewBox=\"0 0 24 24\"\n",
              "       width=\"24px\">\n",
              "    <path d=\"M0 0h24v24H0V0z\" fill=\"none\"/>\n",
              "    <path d=\"M18.56 5.44l.94 2.06.94-2.06 2.06-.94-2.06-.94-.94-2.06-.94 2.06-2.06.94zm-11 1L8.5 8.5l.94-2.06 2.06-.94-2.06-.94L8.5 2.5l-.94 2.06-2.06.94zm10 10l.94 2.06.94-2.06 2.06-.94-2.06-.94-.94-2.06-.94 2.06-2.06.94z\"/><path d=\"M17.41 7.96l-1.37-1.37c-.4-.4-.92-.59-1.43-.59-.52 0-1.04.2-1.43.59L10.3 9.45l-7.72 7.72c-.78.78-.78 2.05 0 2.83L4 21.41c.39.39.9.59 1.41.59.51 0 1.02-.2 1.41-.59l7.78-7.78 2.81-2.81c.8-.78.8-2.07 0-2.86zM5.41 20L4 18.59l7.72-7.72 1.47 1.35L5.41 20z\"/>\n",
              "  </svg>\n",
              "      </button>\n",
              "      \n",
              "  <style>\n",
              "    .colab-df-container {\n",
              "      display:flex;\n",
              "      flex-wrap:wrap;\n",
              "      gap: 12px;\n",
              "    }\n",
              "\n",
              "    .colab-df-convert {\n",
              "      background-color: #E8F0FE;\n",
              "      border: none;\n",
              "      border-radius: 50%;\n",
              "      cursor: pointer;\n",
              "      display: none;\n",
              "      fill: #1967D2;\n",
              "      height: 32px;\n",
              "      padding: 0 0 0 0;\n",
              "      width: 32px;\n",
              "    }\n",
              "\n",
              "    .colab-df-convert:hover {\n",
              "      background-color: #E2EBFA;\n",
              "      box-shadow: 0px 1px 2px rgba(60, 64, 67, 0.3), 0px 1px 3px 1px rgba(60, 64, 67, 0.15);\n",
              "      fill: #174EA6;\n",
              "    }\n",
              "\n",
              "    [theme=dark] .colab-df-convert {\n",
              "      background-color: #3B4455;\n",
              "      fill: #D2E3FC;\n",
              "    }\n",
              "\n",
              "    [theme=dark] .colab-df-convert:hover {\n",
              "      background-color: #434B5C;\n",
              "      box-shadow: 0px 1px 3px 1px rgba(0, 0, 0, 0.15);\n",
              "      filter: drop-shadow(0px 1px 2px rgba(0, 0, 0, 0.3));\n",
              "      fill: #FFFFFF;\n",
              "    }\n",
              "  </style>\n",
              "\n",
              "      <script>\n",
              "        const buttonEl =\n",
              "          document.querySelector('#df-bb684912-aac7-4dce-8bef-ab27f474707f button.colab-df-convert');\n",
              "        buttonEl.style.display =\n",
              "          google.colab.kernel.accessAllowed ? 'block' : 'none';\n",
              "\n",
              "        async function convertToInteractive(key) {\n",
              "          const element = document.querySelector('#df-bb684912-aac7-4dce-8bef-ab27f474707f');\n",
              "          const dataTable =\n",
              "            await google.colab.kernel.invokeFunction('convertToInteractive',\n",
              "                                                     [key], {});\n",
              "          if (!dataTable) return;\n",
              "\n",
              "          const docLinkHtml = 'Like what you see? Visit the ' +\n",
              "            '<a target=\"_blank\" href=https://colab.research.google.com/notebooks/data_table.ipynb>data table notebook</a>'\n",
              "            + ' to learn more about interactive tables.';\n",
              "          element.innerHTML = '';\n",
              "          dataTable['output_type'] = 'display_data';\n",
              "          await google.colab.output.renderOutput(dataTable, element);\n",
              "          const docLink = document.createElement('div');\n",
              "          docLink.innerHTML = docLinkHtml;\n",
              "          element.appendChild(docLink);\n",
              "        }\n",
              "      </script>\n",
              "    </div>\n",
              "  </div>\n",
              "  "
            ],
            "text/plain": [
              "   0         1         2         3         4         5         6         7     \\\n",
              "0   NaN -0.004404 -0.025209 -0.023280  0.013331 -0.001512 -0.017684 -0.005741   \n",
              "1   NaN       NaN -0.004404 -0.025209 -0.023280  0.013331 -0.001512 -0.017684   \n",
              "2   NaN       NaN       NaN -0.004404 -0.025209 -0.023280  0.013331 -0.001512   \n",
              "3   NaN       NaN       NaN       NaN -0.004404 -0.025209 -0.023280  0.013331   \n",
              "4   NaN       NaN       NaN       NaN       NaN -0.004404 -0.025209 -0.023280   \n",
              "\n",
              "       8         9     ...      3188      3189      3190      3191      3192  \\\n",
              "0  0.004701 -0.016699  ...  0.012826 -0.016915 -0.011042  0.027912 -0.009595   \n",
              "1 -0.005741  0.004701  ... -0.006915  0.012826 -0.016915 -0.011042  0.027912   \n",
              "2 -0.017684 -0.005741  ... -0.003897 -0.006915  0.012826 -0.016915 -0.011042   \n",
              "3 -0.001512 -0.017684  ... -0.008625 -0.003897 -0.006915  0.012826 -0.016915   \n",
              "4  0.013331 -0.001512  ... -0.054375 -0.008625 -0.003897 -0.006915  0.012826   \n",
              "\n",
              "       3193      3194      3195      3196      3197  \n",
              "0  0.021568  0.000805 -0.058640  0.005318 -0.015585  \n",
              "1 -0.009595  0.021568  0.000805 -0.058640  0.005318  \n",
              "2  0.027912 -0.009595  0.021568  0.000805 -0.058640  \n",
              "3 -0.011042  0.027912 -0.009595  0.021568  0.000805  \n",
              "4 -0.016915 -0.011042  0.027912 -0.009595  0.021568  \n",
              "\n",
              "[5 rows x 3198 columns]"
            ]
          },
          "execution_count": 17,
          "metadata": {},
          "output_type": "execute_result"
        }
      ],
      "source": [
        "duration = 5\n",
        "pd.DataFrame(np.array([df[\"pct\"].shift(i) for i in range(duration)]))"
      ]
    },
    {
      "cell_type": "markdown",
      "metadata": {
        "id": "TYPVBUjtDKRI"
      },
      "source": [
        "# Automatización"
      ]
    },
    {
      "cell_type": "code",
      "execution_count": 22,
      "metadata": {
        "id": "YfQv0FZ73QyP"
      },
      "outputs": [],
      "source": [
        "def engulfing(symbol, spread=0.5, duration=5):\n",
        "  # Importar datos financieros de Yahoo Finance\n",
        "  df = yf.download(symbol, start=\"2010-01-01\")\n",
        "\n",
        "  # Renombrar las columnas\n",
        "  df.columns = [\"open\", \"high\", \"low\", \"close\", \"adj close\", \"volume\"]\n",
        "  df.index.name = \"time\"\n",
        "\n",
        "  df[\"Candle way\"] = -1\n",
        "  df.loc[(df[\"open\"] - df[\"close\"]) < 0, \"Candle way\"] = 1\n",
        "  df[\"amplitude\"] = np.abs(df[\"close\"] - df[\"open\"])\n",
        "\n",
        "\n",
        "  df[\"Bullish Engulfing\"] = np.nan\n",
        "\n",
        "  df.loc[\n",
        "      # 5 velas decrecientes (rojas) consecutivas y un incremento (verde) en el día actual\n",
        "      (df[\"Candle way\"].shift(5) == -1) &\\\n",
        "      (df[\"Candle way\"].shift(4) == -1) &\\\n",
        "      (df[\"Candle way\"].shift(3) == -1) &\\\n",
        "      (df[\"Candle way\"].shift(2) == -1) &\\\n",
        "      (df[\"Candle way\"].shift(1) == -1) &\\\n",
        "      (df[\"Candle way\"] == 1) &\\\n",
        "\n",
        "      # Valor de cierre de la última vela decreciente = Valor de apertura de la vela de hoy\n",
        "      (df[\"close\"].shift(1) < df[\"open\"]*(1+spread/100)) &\\\n",
        "      (df[\"close\"].shift(1) > df[\"open\"]*(1-spread/100)) &\\\n",
        "\n",
        "      # La última vela decreciente es más debil (menor amplitud) que el crecimiento de la vela de hoy (mayor amplitud)\n",
        "      (df[\"amplitude\"].shift(1) * 1.5< df[\"amplitude\"]), \"Bullish Engulfing\"] = 1\n",
        "\n",
        "\n",
        "  df[\"Bearish Engulfing\"] = np.nan\n",
        "\n",
        "  df.loc[\n",
        "       # 5 velas crecientes (verdes) consecutivas y un decremento (roja) en el día actual\n",
        "      (df[\"Candle way\"].shift(5) == 1) &\\\n",
        "      (df[\"Candle way\"].shift(4) == 1) &\\\n",
        "      (df[\"Candle way\"].shift(3) == 1) &\\\n",
        "      (df[\"Candle way\"].shift(2) == 1) &\\\n",
        "      (df[\"Candle way\"].shift(1) == 1) &\\\n",
        "      (df[\"Candle way\"] == -1) &\\\n",
        "\n",
        "      # Valor de cierre de la última vela creciente = Valor de apertura de la vela de hoy\n",
        "      (df[\"close\"].shift(1) < df[\"open\"]*(1+spread/100)) &\\\n",
        "      (df[\"close\"].shift(1) > df[\"open\"]*(1-spread/100)) &\\\n",
        "\n",
        "      # La última vela creciente es más debil (menor amplitud) que el decrecimiento de la vela de hoy (mayor amplitud)\n",
        "      (df[\"amplitude\"].shift(1) * 1.5< df[\"amplitude\"]), \"Bearish Engulfing\"] = -1\n",
        "\n",
        "  df[\"signal\"] = df[\"Bullish Engulfing\"].fillna(value=0) + df[\"Bearish Engulfing\"].fillna(value=0)\n",
        "\n",
        "  # Calcular el porcentaje de variación del activo\n",
        "  df[\"pct\"] = df[\"close\"].pct_change(1)\n",
        "\n",
        "  # Calcular el retorno de la estrategia\n",
        "  df[\"return\"] = np.array([df[\"pct\"].shift(i) for i in range(duration)]).sum(axis=0) * (df[\"signal\"].shift(duration))\n",
        "\n",
        "  return df[\"return\"]"
      ]
    },
    {
      "cell_type": "code",
      "execution_count": 23,
      "metadata": {
        "colab": {
          "base_uri": "https://localhost:8080/",
          "height": 500
        },
        "id": "BCtfxq2v4ZO_",
        "outputId": "f69ecdf5-7ce6-4ec4-9b56-ee63a128c213"
      },
      "outputs": [
        {
          "name": "stdout",
          "output_type": "stream",
          "text": [
            "\r[*********************100%***********************]  1 of 1 completed\n"
          ]
        },
        {
          "data": {
            "text/plain": [
              "<matplotlib.axes._subplots.AxesSubplot at 0x7fdae752cc90>"
            ]
          },
          "execution_count": 23,
          "metadata": {},
          "output_type": "execute_result"
        },
        {
          "data": {
            "image/png": "[encoded data removed]",
            "text/plain": [
              "<Figure size 1440x576 with 1 Axes>"
            ]
          },
          "metadata": {},
          "output_type": "display_data"
        }
      ],
      "source": [
        "engulfing(\"GOOG\").cumsum().plot()"
      ]
    },
    {
      "cell_type": "code",
      "execution_count": 24,
      "metadata": {
        "colab": {
          "base_uri": "https://localhost:8080/",
          "height": 532
        },
        "id": "xdehV8ez4efg",
        "outputId": "1d830bf9-f578-464c-da5d-5c166d4c337b"
      },
      "outputs": [
        {
          "name": "stdout",
          "output_type": "stream",
          "text": [
            "\r[*********************100%***********************]  1 of 1 completed\n"
          ]
        },
        {
          "data": {
            "text/plain": [
              "<matplotlib.axes._subplots.AxesSubplot at 0x7fdae6cd0910>"
            ]
          },
          "execution_count": 24,
          "metadata": {},
          "output_type": "execute_result"
        },
        {
          "data": {
            "image/png": "[encoded data removed]",
            "text/plain": [
              "<Figure size 1440x576 with 1 Axes>"
            ]
          },
          "metadata": {},
          "output_type": "display_data"
        }
      ],
      "source": [
        "engulfing(\"ETH-USD\").cumsum().plot()"
      ]
    },
    {
      "cell_type": "code",
      "execution_count": 25,
      "metadata": {
        "colab": {
          "base_uri": "https://localhost:8080/",
          "height": 500
        },
        "id": "H2MycaQNGECf",
        "outputId": "753212ea-ee8a-4be9-d46c-e013fd30c7ff"
      },
      "outputs": [
        {
          "name": "stdout",
          "output_type": "stream",
          "text": [
            "\r[*********************100%***********************]  1 of 1 completed\n"
          ]
        },
        {
          "data": {
            "text/plain": [
              "<matplotlib.axes._subplots.AxesSubplot at 0x7fdae6bdf690>"
            ]
          },
          "execution_count": 25,
          "metadata": {},
          "output_type": "execute_result"
        },
        {
          "data": {
            "image/png": "[encoded data removed]",
            "text/plain": [
              "<Figure size 1440x576 with 1 Axes>"
            ]
          },
          "metadata": {},
          "output_type": "display_data"
        }
      ],
      "source": [
        "engulfing(\"MSFT\").cumsum().plot()"
      ]
    }
  ],
  "metadata": {
    "colab": {
      "include_colab_link": true,
      "provenance": []
    },
    "kernelspec": {
      "display_name": "Python 3.9.6 ('finance')",
      "language": "python",
      "name": "python3"
    },
    "language_info": {
      "name": "python",
      "version": "3.9.6"
    },
    "vscode": {
      "interpreter": {
        "hash": "07a11fb9ae457c2a7b26193f926f2d5e120c1c3eedd0e619dc841e4a547d081b"
      }
    }
  },
  "nbformat": 4,
  "nbformat_minor": 0
}
